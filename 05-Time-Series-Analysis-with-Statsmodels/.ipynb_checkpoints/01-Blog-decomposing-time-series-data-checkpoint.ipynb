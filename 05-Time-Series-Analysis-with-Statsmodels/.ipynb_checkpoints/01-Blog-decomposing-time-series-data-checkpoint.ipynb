{
 "cells": [
  {
   "cell_type": "markdown",
   "metadata": {},
   "source": [
    "## [How to Decompose Time Series Data into Trend and Seasonality](https://machinelearningmastery.com/decompose-time-series-data-trend-seasonality/)\n",
    "\n",
    "Time series decomposition involves thinking of a series as a combination of level, trend, seasonality, and noise components.\n",
    "\n",
    "Decomposition provides a useful abstract model for thinking about time series generally and for better understanding problems during time series analysis and forecasting.\n",
    "\n",
    "In this tutorial, you will discover time series decomposition and how to automatically split a time series into its components with Python.\n",
    "\n",
    "After completing this tutorial, you will know:\n",
    "\n",
    "- The time series decomposition method of analysis and how it can help with forecasting.\n",
    "- How to automatically decompose time series data in Python.\n",
    "- How to decompose additive and multiplicative time series problems and plot the results.\n",
    "\n",
    "### Time Series Components\n",
    "A useful abstraction for selecting forecasting methods is to break a time series down into systematic and unsystematic components.\n",
    "\n",
    "- __Systematic__: Components of the time series that have consistency or recurrence and can be described and modeled.\n",
    "- __Non-Systematic__: Components of the time series that cannot be directly modeled.\n",
    "\n",
    "##### systematic and non-systematic components\n",
    "\n",
    "A given time series is thought to consist of three systematic components including level, trend, seasonality, and one non-systematic component called noise.\n",
    "\n",
    "These components are defined as follows:\n",
    "\n",
    "- __Level__: The average value in the series.\n",
    "- __Trend__: The increasing or decreasing value in the series.\n",
    "- __Seasonality__: The repeating short-term cycle in the series.\n",
    "- __Noise__: The random variation in the series.\n",
    "\n",
    "\n",
    "### Combining Time Series Components\n",
    "\n",
    "A series is thought to be an aggregate or combination of these four components.\n",
    "\n",
    "All series have a level and noise. The trend and seasonality components are optional.\n",
    "\n",
    "It is helpful to think of the components as combining either additively or multiplicatively.\n",
    "\n",
    "#### Additive Model\n",
    "\n",
    "An additive model suggests that the components are added together as follows:\n",
    "\n",
    "```\n",
    "y(t) = Level + Trend + Seasonality + Noise\n",
    "```\n",
    "\n",
    "An additive model is linear where changes over time are consistently made by the same amount.\n",
    "\n",
    "A linear trend is a straight line.\n",
    "\n",
    "A linear seasonality has the same frequency (width of cycles) and amplitude (height of cycles).\n",
    "\n",
    "\n",
    "#### Multiplicative Model\n",
    "\n",
    "A multiplicative model suggests that the components are multiplied together as follows:\n",
    "\n",
    "```\n",
    "y(t) = Level * Trend * Seasonality * Noise\n",
    "```\n",
    "\n",
    "A multiplicative model is nonlinear, such as quadratic or exponential. Changes increase or decrease over time.\n",
    "\n",
    "A nonlinear trend is a curved line.\n",
    "\n",
    "A non-linear seasonality has an increasing or decreasing frequency and/or amplitude over time.\n",
    "\n",
    "\n",
    "\n",
    "\n",
    "\n",
    "\n"
   ]
  },
  {
   "cell_type": "code",
   "execution_count": null,
   "metadata": {},
   "outputs": [],
   "source": []
  },
  {
   "cell_type": "code",
   "execution_count": null,
   "metadata": {},
   "outputs": [],
   "source": []
  },
  {
   "cell_type": "code",
   "execution_count": null,
   "metadata": {},
   "outputs": [],
   "source": []
  },
  {
   "cell_type": "code",
   "execution_count": null,
   "metadata": {},
   "outputs": [],
   "source": []
  },
  {
   "cell_type": "code",
   "execution_count": null,
   "metadata": {},
   "outputs": [],
   "source": []
  },
  {
   "cell_type": "code",
   "execution_count": null,
   "metadata": {},
   "outputs": [],
   "source": []
  },
  {
   "cell_type": "code",
   "execution_count": null,
   "metadata": {},
   "outputs": [],
   "source": []
  },
  {
   "cell_type": "code",
   "execution_count": null,
   "metadata": {},
   "outputs": [],
   "source": []
  },
  {
   "cell_type": "code",
   "execution_count": null,
   "metadata": {},
   "outputs": [],
   "source": []
  }
 ],
 "metadata": {
  "kernelspec": {
   "display_name": "Python 3",
   "language": "python",
   "name": "python3"
  },
  "language_info": {
   "codemirror_mode": {
    "name": "ipython",
    "version": 3
   },
   "file_extension": ".py",
   "mimetype": "text/x-python",
   "name": "python",
   "nbconvert_exporter": "python",
   "pygments_lexer": "ipython3",
   "version": "3.7.6"
  }
 },
 "nbformat": 4,
 "nbformat_minor": 4
}
