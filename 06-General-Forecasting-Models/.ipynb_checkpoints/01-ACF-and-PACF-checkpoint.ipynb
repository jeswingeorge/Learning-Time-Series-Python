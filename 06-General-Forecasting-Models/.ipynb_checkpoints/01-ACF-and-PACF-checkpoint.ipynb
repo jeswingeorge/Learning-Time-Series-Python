{
 "cells": [
  {
   "cell_type": "markdown",
   "metadata": {},
   "source": [
    "___\n",
    "\n",
    "<a href='http://www.pieriandata.com'><img src='../Pierian_Data_Logo.png'/></a>\n",
    "___\n",
    "<center><em>Copyright Pierian Data</em></center>\n",
    "<center><em>For more information, visit us at <a href='http://www.pieriandata.com'>www.pieriandata.com</a></em></center>"
   ]
  },
  {
   "cell_type": "markdown",
   "metadata": {},
   "source": [
    "# ACF and PACF\n",
    "# Autocorrelation Function / Partial Autocorrelation Function\n",
    "Before we can investigate <em>autoregression</em> as a modeling tool, we need to look at <em>covariance</em> and <em>correlation</em> as they relate to lagged (shifted) samples of a time series.\n",
    "\n",
    "\n",
    "### Goals\n",
    " * Be able to create ACF and PACF charts\n",
    " * Create these charts for multiple times series, one with seasonality and another without\n",
    " * Be able to calculate Orders PQD terms for ARIMA off these charts (highlight where they cross the x axis)\n",
    " \n",
    "<div class=\"alert alert-info\"><h3>Related Functions:</h3>\n",
    "<tt><strong>\n",
    "<a href='https://www.statsmodels.org/stable/generated/statsmodels.tsa.stattools.acovf.html'>stattools.acovf</a></strong><font color=black>(x[, unbiased, demean, fft, …])</font>&nbsp;Autocovariance for 1D<br>\n",
    "<strong><a href='https://www.statsmodels.org/stable/generated/statsmodels.tsa.stattools.acf.html'>stattools.acf</a></strong><font color=black>(x[, unbiased, nlags, qstat, …])</font>&nbsp;&nbsp;Autocorrelation function for 1d arrays<br>\n",
    "<strong><a href='https://www.statsmodels.org/stable/generated/statsmodels.tsa.stattools.pacf.html'>stattools.pacf</a></strong><font color=black>(x[, nlags, method, alpha])</font>&nbsp;&nbsp;&nbsp;&nbsp;&nbsp;&nbsp;Partial autocorrelation estimated<br>\n",
    "<strong><a href='https://www.statsmodels.org/stable/generated/statsmodels.tsa.stattools.pacf_yw.html'>stattools.pacf_yw</a></strong><font color=black>(x[, nlags, method])</font>&nbsp;&nbsp;&nbsp;&nbsp;&nbsp;&nbsp;&nbsp;&nbsp;&nbsp;&nbsp;Partial autocorrelation estimated with non-recursive yule_walker<br>\n",
    "<strong><a href='https://www.statsmodels.org/stable/generated/statsmodels.tsa.stattools.pacf_ols.html'>stattools.pacf_ols</a></strong><font color=black>(x[, nlags])</font>&nbsp;&nbsp;&nbsp;&nbsp;&nbsp;&nbsp;&nbsp;&nbsp;&nbsp;&nbsp;&nbsp;&nbsp;&nbsp;&nbsp;&nbsp;&nbsp;&nbsp;Calculate partial autocorrelations</tt>\n",
    "   \n",
    "<h3>Related Plot Methods:</h3>\n",
    "<tt><strong>\n",
    "<a href='https://www.statsmodels.org/stable/generated/statsmodels.graphics.tsaplots.plot_acf.html'>tsaplots.plot_acf</a></strong><font color=black>(x)</font>&nbsp;&nbsp;&nbsp;Plot the autocorrelation function<br>\n",
    "<strong><a href='https://www.statsmodels.org/stable/generated/statsmodels.graphics.tsaplots.plot_pacf.html'>tsaplots.plot_pacf</a></strong><font color=black>(x)</font>&nbsp;&nbsp;Plot the partial autocorrelation function</tt>\n",
    "\n",
    "<h3>For Further Reading:</h3>\n",
    "<strong>\n",
    "<a href='https://en.wikipedia.org/wiki/Autocovariance'>Wikipedia:</a></strong>&nbsp;&nbsp;<font color=black>Autocovariance</font><br>\n",
    "<strong>\n",
    "<a href='https://otexts.com/fpp2/autocorrelation.html'>Forecasting: Principles and Practice</a></strong>&nbsp;&nbsp;<font color=black>Autocorrelation</font><br>\n",
    "<strong>\n",
    "<a href='https://www.itl.nist.gov/div898/handbook/pmc/section4/pmc4463.htm'>NIST Statistics Handbook</a></strong>&nbsp;&nbsp;<font color=black>Partial Autocorrelation Plot</font></div>\n"
   ]
  },
  {
   "cell_type": "markdown",
   "metadata": {},
   "source": [
    "#### Correlation\n",
    "\n",
    "- It is the measure of the strength of the linear relationship between two variables\n",
    "- Its value lies between -1 and +1.\n",
    "\n",
    "![](correlation_1.png)\n",
    "\n",
    "\n",
    "***\n",
    "![](correlation_plots_eg.PNG)\n",
    "\n",
    "__Bottom figure:__ Closer the points are to a straight line, they will be +1 or -1.\n",
    "\n",
    "__Top figure:__ Correlation scatterplots and their corresponding correlation value."
   ]
  },
  {
   "cell_type": "markdown",
   "metadata": {},
   "source": [
    "***\n",
    "***\n",
    "\n",
    "## Autocorrelation Plot \n",
    "\n",
    "- An autocorrelation plot (ACF) shows the correlation of the series with itself lagged by x time units. So we have only one series of data and we are not going to compare it with any other series. We will simply take the same series of data and compare it against itself, lagged/shifted over by a certain number of time units.  \n",
    "- So the y-axis is the correlation and the x-axis is the number of time units per lag.\n",
    "\n",
    "#### Example:\n",
    "- Imagine we had some sales data.\n",
    "- We can compare the standard sales data against the sales data shifted by 1 time step.\n",
    "- This answers the question, \"How correlated are today's sales to yesterday's sales?\" (Shifted by only 1 time unit).\n",
    "\n",
    "![](sales_on_day.png)"
   ]
  },
  {
   "cell_type": "markdown",
   "metadata": {},
   "source": [
    "Then we will create our 1st stamp on the acf plot.\n",
    "\n",
    "![](sales_plot_2.png)\n",
    "\n",
    "Then we are going to repeat this step for the next shift.\n",
    "\n",
    "![](sales_plot_3.png)\n",
    "\n",
    "![](sales_plot_4.png)\n"
   ]
  },
  {
   "cell_type": "markdown",
   "metadata": {},
   "source": [
    "\n",
    "You go on and do this for all possible time lags x and this defines the plot.\n",
    "\n",
    "Let's see some typical examples - \n",
    "\n",
    "1. Gradual decline\n",
    "\n",
    "![](gd_acf_airline.PNG)\n",
    "\n",
    "There are some peaks which signifies that after a certain number of shifts there is an increase in the number of correlations and there is a peak at around every 12 months mark which makes sense coz every 12 months (i.e., a year) was the seasonality in the airlines passengers data. So we see this gradual decline that is as we shift more and more we see this gradual decline in correlation i.e., data becomes more and more less correlated.\n"
   ]
  },
  {
   "cell_type": "markdown",
   "metadata": {},
   "source": [
    "\n",
    "\n",
    "\n",
    "\n",
    "2. Sharp drop-off\n",
    "\n",
    "![](drop_off_plot_5.png)\n",
    "\n",
    "Also very common is a very sharp drop-off maybe you have high correlation from one day to the previous day. But then looking back two or three days you essentially have no more correlation and that lag.\n",
    "\n",
    "So its really common to see either gradual declines or sharp drop offs.\n",
    "\n",
    "It makes sense that in general there is a decline of some sort, the further away you get with the shift, the less likely the time series would be correlated with itself.\n",
    "\n",
    "\n",
    "There are some basic common methods we can use for the arena model in cojunction with these plot types in order to choose orders for the ARIMA model.\n",
    "\n",
    "## Partial autocorrelation plot\n",
    "\n",
    "Plotting a pacf plot.\n",
    "\n",
    " - Calculate residual basically if we have a linear fit between the sales on day i and day (i-1). So we basically end up plotting these residuals.\n",
    " \n",
    "![](pacf_plot.png)\n",
    "\n",
    "![](pacf_plot_2.png)\n",
    "\n",
    "Next step is essentially just repeating this process over and over again for the next lags so we'll fit that calculate those residuals and then plot the correlation against sales on day I minus 3 and so on and so on.\n",
    "\n",
    "So again it's a little more complicated than the auto correlation plot because we're introducing this third step of calculating these residuals and then plotting the residuals fitted on the day before against the actual data for the day before that one.\n",
    "\n",
    "Example of PACF plot:\n",
    "\n",
    "![](pacf_eg.png)\n",
    "\n",
    "> The ACF describes the autocorrelation between an observation and another observation at a prior time step that includes direct and indirect dependance information.\n",
    "\n",
    "> The PACF only describes the direct relationship between an observation and its lag.\n",
    "\n",
    "These 2 plots can help choose order parameters for ARIMA based models.\n",
    "\n",
    "Later on we will see that it is usually much easier to perform a grid search of the parameter values, rather than attempt to read these plots directly."
   ]
  },
  {
   "cell_type": "markdown",
   "metadata": {},
   "source": [
    "## Perform standard imports and load datasets"
   ]
  },
  {
   "cell_type": "code",
   "execution_count": 1,
   "metadata": {
    "ExecuteTime": {
     "end_time": "2020-03-09T02:59:58.351676Z",
     "start_time": "2020-03-09T02:58:43.655292Z"
    }
   },
   "outputs": [],
   "source": [
    "import pandas as pd\n",
    "import numpy as np\n",
    "import matplotlib.pyplot as plt\n",
    "import seaborn as sns\n",
    "sns.set()\n",
    "%matplotlib inline\n",
    "import statsmodels.api as sm\n",
    "\n",
    "# Load a non-stationary dataset\n",
    "df1 = pd.read_csv('../Data/airline_passengers.csv',index_col='Month',parse_dates=True)\n",
    "df1.index.freq = 'MS'\n",
    "\n",
    "# Load a stationary dataset\n",
    "df2 = pd.read_csv('../Data/DailyTotalFemaleBirths.csv',index_col='Date',parse_dates=True)\n",
    "df2.index.freq = 'D'"
   ]
  },
  {
   "cell_type": "code",
   "execution_count": 2,
   "metadata": {
    "ExecuteTime": {
     "end_time": "2020-03-09T03:02:03.042072Z",
     "start_time": "2020-03-09T03:02:03.037071Z"
    }
   },
   "outputs": [],
   "source": [
    "# Import the models we'll be using in this section\n",
    "from statsmodels.tsa.stattools import acovf,acf,pacf,pacf_yw,pacf_ols"
   ]
  },
  {
   "cell_type": "code",
   "execution_count": 3,
   "metadata": {
    "ExecuteTime": {
     "end_time": "2020-03-09T03:04:10.830387Z",
     "start_time": "2020-03-09T03:04:10.529420Z"
    }
   },
   "outputs": [
    {
     "data": {
      "text/html": [
       "<div>\n",
       "<style scoped>\n",
       "    .dataframe tbody tr th:only-of-type {\n",
       "        vertical-align: middle;\n",
       "    }\n",
       "\n",
       "    .dataframe tbody tr th {\n",
       "        vertical-align: top;\n",
       "    }\n",
       "\n",
       "    .dataframe thead th {\n",
       "        text-align: right;\n",
       "    }\n",
       "</style>\n",
       "<table border=\"1\" class=\"dataframe\">\n",
       "  <thead>\n",
       "    <tr style=\"text-align: right;\">\n",
       "      <th></th>\n",
       "      <th>Thousands of Passengers</th>\n",
       "    </tr>\n",
       "    <tr>\n",
       "      <th>Month</th>\n",
       "      <th></th>\n",
       "    </tr>\n",
       "  </thead>\n",
       "  <tbody>\n",
       "    <tr>\n",
       "      <th>1949-01-01</th>\n",
       "      <td>112</td>\n",
       "    </tr>\n",
       "    <tr>\n",
       "      <th>1949-02-01</th>\n",
       "      <td>118</td>\n",
       "    </tr>\n",
       "    <tr>\n",
       "      <th>1949-03-01</th>\n",
       "      <td>132</td>\n",
       "    </tr>\n",
       "    <tr>\n",
       "      <th>1949-04-01</th>\n",
       "      <td>129</td>\n",
       "    </tr>\n",
       "    <tr>\n",
       "      <th>1949-05-01</th>\n",
       "      <td>121</td>\n",
       "    </tr>\n",
       "  </tbody>\n",
       "</table>\n",
       "</div>"
      ],
      "text/plain": [
       "            Thousands of Passengers\n",
       "Month                              \n",
       "1949-01-01                      112\n",
       "1949-02-01                      118\n",
       "1949-03-01                      132\n",
       "1949-04-01                      129\n",
       "1949-05-01                      121"
      ]
     },
     "execution_count": 3,
     "metadata": {},
     "output_type": "execute_result"
    }
   ],
   "source": [
    "# non-stationary dataset - airline_passengers\n",
    "df1.head()"
   ]
  },
  {
   "cell_type": "code",
   "execution_count": 4,
   "metadata": {
    "ExecuteTime": {
     "end_time": "2020-03-09T03:04:42.404523Z",
     "start_time": "2020-03-09T03:04:42.388527Z"
    }
   },
   "outputs": [
    {
     "data": {
      "text/html": [
       "<div>\n",
       "<style scoped>\n",
       "    .dataframe tbody tr th:only-of-type {\n",
       "        vertical-align: middle;\n",
       "    }\n",
       "\n",
       "    .dataframe tbody tr th {\n",
       "        vertical-align: top;\n",
       "    }\n",
       "\n",
       "    .dataframe thead th {\n",
       "        text-align: right;\n",
       "    }\n",
       "</style>\n",
       "<table border=\"1\" class=\"dataframe\">\n",
       "  <thead>\n",
       "    <tr style=\"text-align: right;\">\n",
       "      <th></th>\n",
       "      <th>Births</th>\n",
       "    </tr>\n",
       "    <tr>\n",
       "      <th>Date</th>\n",
       "      <th></th>\n",
       "    </tr>\n",
       "  </thead>\n",
       "  <tbody>\n",
       "    <tr>\n",
       "      <th>1959-01-01</th>\n",
       "      <td>35</td>\n",
       "    </tr>\n",
       "    <tr>\n",
       "      <th>1959-01-02</th>\n",
       "      <td>32</td>\n",
       "    </tr>\n",
       "    <tr>\n",
       "      <th>1959-01-03</th>\n",
       "      <td>30</td>\n",
       "    </tr>\n",
       "    <tr>\n",
       "      <th>1959-01-04</th>\n",
       "      <td>31</td>\n",
       "    </tr>\n",
       "    <tr>\n",
       "      <th>1959-01-05</th>\n",
       "      <td>44</td>\n",
       "    </tr>\n",
       "  </tbody>\n",
       "</table>\n",
       "</div>"
      ],
      "text/plain": [
       "            Births\n",
       "Date              \n",
       "1959-01-01      35\n",
       "1959-01-02      32\n",
       "1959-01-03      30\n",
       "1959-01-04      31\n",
       "1959-01-05      44"
      ]
     },
     "execution_count": 4,
     "metadata": {},
     "output_type": "execute_result"
    }
   ],
   "source": [
    "# stationary dataset - DailyTotalFemaleBirths\n",
    "df2.head()"
   ]
  },
  {
   "cell_type": "markdown",
   "metadata": {},
   "source": [
    "### Ignore harmless warnings\n",
    "A quick note before we get started. Many of the models used in this and upcoming sections are likely to raise harmless warnings.<br>For instance, the unbiased partial autocorrelation <tt>pacf_yw()</tt> performed below may raise a <tt>RuntimeWarning: invalid value encountered in sqrt</tt>.<br>\n",
    "We don't really need to be concerned with this, and we can avoid it with the following code:"
   ]
  },
  {
   "cell_type": "code",
   "execution_count": 5,
   "metadata": {
    "ExecuteTime": {
     "end_time": "2020-03-09T03:05:57.323008Z",
     "start_time": "2020-03-09T03:05:57.316014Z"
    }
   },
   "outputs": [],
   "source": [
    "import warnings\n",
    "warnings.filterwarnings(\"ignore\")"
   ]
  },
  {
   "cell_type": "markdown",
   "metadata": {},
   "source": [
    "## Autocovariance for 1D\n",
    "In a <em>deterministic</em> process, like $y=sin(x)$, we always know the value of $y$ for a given value of $x$. However, in a [stochastic process](https://en.wikipedia.org/wiki/Stochastic_process) there is always some randomness that prevents us from knowing the value of $y$. Instead, we analyze the past (or <em>lagged</em>) behavior of the system to derive a probabilistic estimate for $\\hat{y}$.\n",
    "\n",
    "One useful descriptor is <em>covariance</em>. When talking about dependent and independent $x$ and $y$ variables, __covariance describes how the variance in $x$ relates to the variance in $y$__. Here the size of the covariance isn't really important, as $x$ and $y$ may have very different scales. However, if the covariance is positive it means that $x$ and $y$ are changing in the same direction, and may be related.\n",
    "\n",
    "With a time series, $x$ is a fixed interval. Here we want to look at the variance of $y_t$ against lagged or shifted values of $y_{t+k}$\n",
    "\n",
    "For a stationary time series, the autocovariance function for $\\gamma$ (gamma) is given as:\n",
    "\n",
    "${\\displaystyle {\\gamma}_{XX}(t_{1},t_{2})=\\operatorname {Cov} \\left[X_{t_{1}},X_{t_{2}}\\right]=\\operatorname {E} [(X_{t_{1}}-\\mu _{t_{1}})(X_{t_{2}}-\\mu _{t_{2}})]}$\n",
    "\n",
    "We can calculate a specific $\\gamma_k$ with:\n",
    "\n",
    "${\\displaystyle \\gamma_k = \\frac 1 n \\sum\\limits_{t=1}^{n-k} (y_t - \\bar{y})(y_{t+k}-\\bar{y})}$\n"
   ]
  },
  {
   "cell_type": "markdown",
   "metadata": {},
   "source": [
    "<div class=\"alert alert-info\"><strong>A NOTE ON FORMULA CONVENTIONS:</strong> Different texts employ different symbol conventions. For example, in the above autocovariance formula we use $k$ to represent the amount of lag or shift. Some texts use $h$ instead.</div>\n"
   ]
  },
  {
   "cell_type": "markdown",
   "metadata": {},
   "source": [
    "### Autocovariance Example:\n",
    "Say we have a time series with five observations: {13, 5, 11, 12, 9}.<br>\n",
    "We can quickly see that $n = 5$, the mean $\\bar{y} = 10$, and we'll see that the variance $\\sigma^2 = 8$.<br>\n",
    "The following calculations give us our covariance values:\n",
    "<br><br>\n",
    "$\\gamma_0 = \\frac {(13-10)(13-10)+(5-10)(5-10)+(11-10)(11-10)+(12-10)(12-10)+(9-10)(9-10)} 5 = \\frac {40} 5 = 8.0 \\\\\n",
    "\\gamma_1 = \\frac {(13-10)(5-10)+(5-10)(11-10)+(11-10)(12-10)+(12-10)(9-10)} 5 = \\frac {-20} 5 = -4.0 \\\\\n",
    "\\gamma_2 = \\frac {(13-10)(11-10)+(5-10)(12-10)+(11-10)(9-10)} 5 = \\frac {-8} 5 = -1.6 \\\\\n",
    "\\gamma_3 = \\frac {(13-10)(12-10)+(5-10)(9-10)} 5 = \\frac {11} 5 = 2.2 \\\\\n",
    "\\gamma_4 = \\frac {(13-10)(9-10)} 5 = \\frac {-3} 5 = -0.6$\n",
    "<br><br>\n",
    "Note that $\\gamma_0$ is just the population variance $\\sigma^2$\n",
    "\n",
    "Let's see if statsmodels gives us the same results! For this we'll create a <strong>fake</strong> dataset:"
   ]
  },
  {
   "cell_type": "code",
   "execution_count": 6,
   "metadata": {
    "ExecuteTime": {
     "end_time": "2020-03-09T03:19:13.185969Z",
     "start_time": "2020-03-09T03:19:13.174977Z"
    }
   },
   "outputs": [
    {
     "data": {
      "text/plain": [
       "8.0"
      ]
     },
     "execution_count": 6,
     "metadata": {},
     "output_type": "execute_result"
    }
   ],
   "source": [
    "# calculating variance using python numpy\n",
    "np.var([13,5,11,12,9])"
   ]
  },
  {
   "cell_type": "code",
   "execution_count": 7,
   "metadata": {
    "ExecuteTime": {
     "end_time": "2020-03-09T03:20:23.237471Z",
     "start_time": "2020-03-09T03:20:22.958487Z"
    }
   },
   "outputs": [
    {
     "data": {
      "text/plain": [
       "array([ 8. , -4. , -1.6,  2.2, -0.6])"
      ]
     },
     "execution_count": 7,
     "metadata": {},
     "output_type": "execute_result"
    }
   ],
   "source": [
    "# calculating autocovariance function\n",
    "df = pd.DataFrame({'a':[13, 5, 11, 12, 9]})\n",
    "arr = acovf(df['a']) # observe input as a pandas series\n",
    "arr"
   ]
  },
  {
   "cell_type": "markdown",
   "metadata": {},
   "source": [
    "### Unbiased Autocovariance\n",
    "Note that the number of terms in the calculations above are decreasing.<br>Statsmodels can return an \"unbiased\" autocovariance where instead of dividing by $n$ we divide by $n-k$.\n",
    "\n",
    "$\\gamma_0 = \\frac {(13-10)(13-10)+(5-10)(5-10)+(11-10)(11-10)+(12-10)(12-10)+(9-10)(9-10)} {5-0} = \\frac {40} 5 = 8.0 \\\\\n",
    "\\gamma_1 = \\frac {(13-10)(5-10)+(5-10)(11-10)+(11-10)(12-10)+(12-10)(9-10)} {5-1} = \\frac {-20} 4 = -5.0 \\\\\n",
    "\\gamma_2 = \\frac {(13-10)(11-10)+(5-10)(12-10)+(11-10)(9-10)} {5-2} = \\frac {-8} 3 = -2.67 \\\\\n",
    "\\gamma_3 = \\frac {(13-10)(12-10)+(5-10)(9-10)} {5-3} = \\frac {11} 2 = 5.5 \\\\\n",
    "\\gamma_4 = \\frac {(13-10)(9-10)} {5-4} = \\frac {-3} 1 = -3.0$"
   ]
  },
  {
   "cell_type": "code",
   "execution_count": 8,
   "metadata": {
    "ExecuteTime": {
     "end_time": "2020-03-09T03:20:50.042145Z",
     "start_time": "2020-03-09T03:20:50.032150Z"
    }
   },
   "outputs": [
    {
     "data": {
      "text/plain": [
       "array([ 8.        , -5.        , -2.66666667,  5.5       , -3.        ])"
      ]
     },
     "execution_count": 8,
     "metadata": {},
     "output_type": "execute_result"
    }
   ],
   "source": [
    "arr2 = acovf(df['a'],unbiased=True)\n",
    "arr2"
   ]
  },
  {
   "cell_type": "markdown",
   "metadata": {},
   "source": [
    "## Autocorrelation for 1D\n",
    "The correlation $\\rho$ (rho) between two variables $y_1,y_2$ is given as:\n",
    "\n",
    "### $\\rho = \\frac {\\operatorname E[(y_1−\\mu_1)(y_2−\\mu_2)]} {\\sigma_{1}\\sigma_{2}} = \\frac {\\operatorname {Cov} (y_1,y_2)} {\\sigma_{1}\\sigma_{2}}$,\n",
    "\n",
    "where $E$ is the expectation operator, $\\mu_{1},\\sigma_{1}$ and $\\mu_{2},\\sigma_{2}$ are the means and standard deviations of $y_1$ and $y_2$.\n",
    "\n",
    "When working with a single variable (i.e. <em>autocorrelation</em>) we would consider $y_1$ to be the original series and $y_2$ a lagged version of it. Note that with autocorrelation we work with $\\bar y$, that is, the full population mean, and <em>not</em> the means of the reduced set of lagged factors (see note below).\n",
    "\n",
    "Thus, the formula for $\\rho_k$ for a time series at lag $k$ is:\n",
    "\n",
    "${\\displaystyle \\rho_k = \\frac {\\sum\\limits_{t=1}^{n-k} (y_t - \\bar{y})(y_{t+k}-\\bar{y})} {\\sum\\limits_{t=1}^{n} (y_t - \\bar{y})^2}}$\n",
    "\n",
    "This can be written in terms of the covariance constant $\\gamma_k$ as:\n",
    "\n",
    "${\\displaystyle \\rho_k = \\frac {\\gamma_k n} {\\gamma_0 n} = \\frac {\\gamma_k} {\\sigma^2}}$\n",
    "\n",
    "For example,<br>\n",
    "$\\rho_4 = \\frac {\\gamma_4} {\\sigma^2} = \\frac{-0.6} {8} = -0.075$\n",
    "\n",
    "Note that ACF values are bound by -1 and 1. That is, ${\\displaystyle -1 \\leq \\rho_k \\leq 1}$"
   ]
  },
  {
   "cell_type": "code",
   "execution_count": 9,
   "metadata": {
    "ExecuteTime": {
     "end_time": "2020-03-09T03:30:46.951380Z",
     "start_time": "2020-03-09T03:30:46.851441Z"
    }
   },
   "outputs": [
    {
     "data": {
      "text/plain": [
       "array([ 1.   , -0.5  , -0.2  ,  0.275, -0.075])"
      ]
     },
     "execution_count": 9,
     "metadata": {},
     "output_type": "execute_result"
    }
   ],
   "source": [
    "arr3 = acf(df['a'])\n",
    "arr3"
   ]
  },
  {
   "cell_type": "markdown",
   "metadata": {},
   "source": [
    "## Partial Autocorrelation\n",
    "Partial autocorrelations measure the linear dependence of one variable after removing the effect of other variable(s) that affect both variables. That is, the partial autocorrelation at lag $k$ is the autocorrelation between $y_t$ and $y_{t+k}$ that is not accounted for by lags $1$ through $k−1$.\n",
    "\n",
    "A common method employs the non-recursive <a href='https://en.wikipedia.org/wiki/Autoregressive_model#Calculation_of_the_AR_parameters'>Yule-Walker Equations</a>:\n",
    "\n",
    "$\\phi_0 = 1\\\\\n",
    "\\phi_1 = \\rho_1 = -0.50\\\\\n",
    "\\phi_2 = \\frac {\\rho_2 - {\\rho_1}^2} {1-{\\rho_1}^2} = \\frac {(-0.20) - {(-0.50)}^2} {1-{(-0.50)}^2}= \\frac {-0.45} {0.75} = -0.60$"
   ]
  },
  {
   "cell_type": "markdown",
   "metadata": {},
   "source": [
    "As $k$ increases, we can solve for $\\phi_k$ using matrix algebra and the <a href='https://en.wikipedia.org/wiki/Levinson_recursion'>Levinson–Durbin recursion</a> algorithm which maps the sample autocorrelations $\\rho$ to a <a href='https://en.wikipedia.org/wiki/Toeplitz_matrix'>Toeplitz</a> diagonal-constant matrix. The full solution is beyond the scope of this course, but the setup is as follows:\n",
    "\n",
    "\n",
    "$\\displaystyle \\begin{pmatrix}\\rho_0&\\rho_1&\\cdots &\\rho_{k-1}\\\\\n",
    "\\rho_1&\\rho_0&\\cdots &\\rho_{k-2}\\\\\n",
    "\\vdots &\\vdots &\\ddots &\\vdots \\\\\n",
    "\\rho_{k-1}&\\rho_{k-2}&\\cdots &\\rho_0\\\\\n",
    "\\end{pmatrix}\\quad \\begin{pmatrix}\\phi_{k1}\\\\\\phi_{k2}\\\\\\vdots\\\\\\phi_{kk}\\end{pmatrix}\n",
    "\\mathbf = \\begin{pmatrix}\\rho_1\\\\\\rho_2\\\\\\vdots\\\\\\rho_k\\end{pmatrix}$"
   ]
  },
  {
   "cell_type": "code",
   "execution_count": 11,
   "metadata": {
    "ExecuteTime": {
     "end_time": "2020-03-09T03:34:51.815912Z",
     "start_time": "2020-03-09T03:34:51.108449Z"
    }
   },
   "outputs": [
    {
     "data": {
      "text/plain": [
       "array([ 1.        , -0.5       , -0.6       , -0.38541667, -0.40563273])"
      ]
     },
     "execution_count": 11,
     "metadata": {},
     "output_type": "execute_result"
    }
   ],
   "source": [
    "# calculating pacf using Yule-walker eqns - so pacf_yw\n",
    "# nlags = 4 as (5-1=4)\n",
    "arr4 = pacf_yw(df['a'],nlags=4,method='mle')\n",
    "arr4"
   ]
  },
  {
   "cell_type": "markdown",
   "metadata": {},
   "source": [
    "<div class=\"alert alert-info\"><strong>NOTE:</strong> We passed in <tt><font color=black>method='mle'</font></tt> above in order to use biased ACF coefficients. \"mle\" stands for \"maximum likelihood estimation\". Alternatively we can pass <tt>method='unbiased'</tt> (the statsmodels default):</div>"
   ]
  },
  {
   "cell_type": "code",
   "execution_count": 12,
   "metadata": {
    "ExecuteTime": {
     "end_time": "2020-03-09T03:35:24.414319Z",
     "start_time": "2020-03-09T03:35:24.403325Z"
    }
   },
   "outputs": [
    {
     "data": {
      "text/plain": [
       "array([ 1.        , -0.625     , -1.18803419,  2.03764205,  0.8949589 ])"
      ]
     },
     "execution_count": 12,
     "metadata": {},
     "output_type": "execute_result"
    }
   ],
   "source": [
    "arr5 = pacf_yw(df['a'],nlags=4,method='unbiased')\n",
    "arr5"
   ]
  },
  {
   "cell_type": "markdown",
   "metadata": {},
   "source": [
    "### Partial Autocorrelation with OLS\n",
    "This provides partial autocorrelations with <a href='https://en.wikipedia.org/wiki/Ordinary_least_squares'>ordinary least squares</a> (OLS) estimates for each lag instead of Yule-Walker."
   ]
  },
  {
   "cell_type": "code",
   "execution_count": 13,
   "metadata": {
    "ExecuteTime": {
     "end_time": "2020-03-09T03:35:56.512542Z",
     "start_time": "2020-03-09T03:35:52.794417Z"
    }
   },
   "outputs": [
    {
     "data": {
      "text/plain": [
       "array([ 1.        , -0.49677419, -0.43181818,  0.53082621,  0.25434783])"
      ]
     },
     "execution_count": 13,
     "metadata": {},
     "output_type": "execute_result"
    }
   ],
   "source": [
    "arr6 = pacf_ols(df['a'],nlags=4)\n",
    "arr6"
   ]
  },
  {
   "cell_type": "markdown",
   "metadata": {},
   "source": [
    "There are different ways of calculating pacf (such as yw or ols) because there are different ways of calculating correlation itself eg: Pearson correlation,Spearman's Rank Correlation,etc."
   ]
  },
  {
   "cell_type": "markdown",
   "metadata": {},
   "source": [
    "# Plotting\n",
    "The arrays returned by <tt>.acf(df)</tt> and <tt>.pacf_yw(df)</tt> show the magnitude of the autocorrelation for a given $y$ at time $t$. Before we look at plotting arrays, let's look at the data itself for evidence of autocorrelation.\n",
    "\n",
    "Pandas has a built-in plotting function that plots increasing $y_t$ values on the horizontal axis against lagged versions of the values $y_{t+1}$ on the vertical axis. If a dataset is non-stationary with an upward trend, then neighboring values should trend in the same way. Let's look at the <strong>Airline Passengers</strong> dataset first."
   ]
  },
  {
   "cell_type": "markdown",
   "metadata": {},
   "source": [
    "__lag_plot__ is a very important plot of plotting a time series with a lagged version of itself."
   ]
  },
  {
   "cell_type": "code",
   "execution_count": 14,
   "metadata": {
    "ExecuteTime": {
     "end_time": "2020-03-09T03:43:07.287289Z",
     "start_time": "2020-03-09T03:43:01.010110Z"
    }
   },
   "outputs": [
    {
     "name": "stderr",
     "output_type": "stream",
     "text": [
      "'c' argument looks like a single numeric RGB or RGBA sequence, which should be avoided as value-mapping will have precedence in case its length matches with 'x' & 'y'.  Please use a 2-D array with a single row if you really want to specify the same RGB or RGBA value for all points.\n"
     ]
    },
    {
     "data": {
      "image/png": "[encoded data removed]",
      "text/plain": [
       "<Figure size 432x288 with 1 Axes>"
      ]
     },
     "metadata": {
      "needs_background": "light"
     },
     "output_type": "display_data"
    }
   ],
   "source": [
    "from pandas.plotting import lag_plot\n",
    "\n",
    "lag_plot(df1['Thousands of Passengers']);"
   ]
  },
  {
   "cell_type": "markdown",
   "metadata": {},
   "source": [
    "Visually this shows evidence of a very strong autocorrelation; as $y_t$ values increase, nearby (lagged) values also increase. If dataset is non-stationary wih an upward trend the neighbouring values should also trend the same way.\n",
    "\n",
    "Now let's look at the stationary <strong>Daily Total Female Births</strong> dataset:"
   ]
  },
  {
   "cell_type": "code",
   "execution_count": 15,
   "metadata": {
    "ExecuteTime": {
     "end_time": "2020-03-09T03:43:52.573174Z",
     "start_time": "2020-03-09T03:43:52.097893Z"
    }
   },
   "outputs": [
    {
     "name": "stderr",
     "output_type": "stream",
     "text": [
      "'c' argument looks like a single numeric RGB or RGBA sequence, which should be avoided as value-mapping will have precedence in case its length matches with 'x' & 'y'.  Please use a 2-D array with a single row if you really want to specify the same RGB or RGBA value for all points.\n"
     ]
    },
    {
     "data": {
      "image/png": "[encoded data removed]",
      "text/plain": [
       "<Figure size 432x288 with 1 Axes>"
      ]
     },
     "metadata": {
      "needs_background": "light"
     },
     "output_type": "display_data"
    }
   ],
   "source": [
    "lag_plot(df2['Births']);"
   ]
  },
  {
   "cell_type": "markdown",
   "metadata": {},
   "source": [
    "As expected, there is little evidence of autocorrelation here."
   ]
  },
  {
   "cell_type": "markdown",
   "metadata": {},
   "source": [
    "## ACF Plots\n",
    "Plotting the magnitude of the autocorrelations over the first few (20-40) lags can say a lot about a time series.\n",
    "\n",
    "For example, consider the stationary <strong>Daily Total Female Births</strong> dataset:"
   ]
  },
  {
   "cell_type": "code",
   "execution_count": 16,
   "metadata": {
    "ExecuteTime": {
     "end_time": "2020-03-09T03:59:40.945137Z",
     "start_time": "2020-03-09T03:59:40.868177Z"
    }
   },
   "outputs": [],
   "source": [
    "from statsmodels.graphics.tsaplots import plot_acf,plot_pacf"
   ]
  },
  {
   "cell_type": "code",
   "execution_count": 17,
   "metadata": {
    "ExecuteTime": {
     "end_time": "2020-03-09T03:59:43.334092Z",
     "start_time": "2020-03-09T03:59:43.108954Z"
    }
   },
   "outputs": [
    {
     "data": {
      "text/plain": [
       "array([ 1.        ,  0.21724118,  0.15287758,  0.10821254,  0.09066059,\n",
       "        0.09595481,  0.09104012,  0.19508071,  0.14115295,  0.06117859,\n",
       "        0.04781522,  0.04770662, -0.01964707,  0.02287422,  0.08112657,\n",
       "        0.11185686,  0.07333732,  0.01501845,  0.07270333,  0.06859   ,\n",
       "        0.09280107,  0.26386846,  0.14012147,  0.06070286,  0.08716232,\n",
       "        0.05038825,  0.0650489 ,  0.11466565,  0.1552232 ,  0.12850638,\n",
       "        0.10358981,  0.09734643,  0.04912286,  0.04022798,  0.05838555,\n",
       "        0.05359812,  0.10151053,  0.08268663,  0.0912185 ,  0.11192192,\n",
       "        0.05652846])"
      ]
     },
     "execution_count": 17,
     "metadata": {},
     "output_type": "execute_result"
    }
   ],
   "source": [
    "# Let's look first at the ACF array. By default acf() returns 40 lags\n",
    "acf(df2['Births'])"
   ]
  },
  {
   "cell_type": "code",
   "execution_count": 18,
   "metadata": {
    "ExecuteTime": {
     "end_time": "2020-03-09T04:00:06.278349Z",
     "start_time": "2020-03-09T04:00:04.844392Z"
    }
   },
   "outputs": [
    {
     "data": {
      "image/png": "[encoded data removed]",
      "text/plain": [
       "<Figure size 432x288 with 1 Axes>"
      ]
     },
     "metadata": {
      "needs_background": "light"
     },
     "output_type": "display_data"
    }
   ],
   "source": [
    "# Now let's plot the autocorrelation at different lags\n",
    "title = 'Autocorrelation: Daily Female Births'\n",
    "lags = 40\n",
    "plot_acf(df2,title=title,lags=lags);"
   ]
  },
  {
   "cell_type": "markdown",
   "metadata": {},
   "source": [
    "This is a typical ACF plot for stationary data, with lags on the horizontal axis and correlations on the vertical axis. The first value $y_0$ is always 1. A __sharp dropoff__ indicates that there is no seasoanality and has no AR component in the ARIMA model.\n",
    "\n",
    "Next we'll look at non-stationary data with the <strong>Airline Passengers</strong> dataset:"
   ]
  },
  {
   "cell_type": "code",
   "execution_count": 19,
   "metadata": {
    "ExecuteTime": {
     "end_time": "2020-03-09T04:01:45.629527Z",
     "start_time": "2020-03-09T04:01:45.587548Z"
    }
   },
   "outputs": [
    {
     "data": {
      "text/plain": [
       "array([1.        , 0.94804734, 0.87557484, 0.80668116, 0.75262542,\n",
       "       0.71376997, 0.6817336 , 0.66290439, 0.65561048, 0.67094833,\n",
       "       0.70271992, 0.74324019, 0.76039504, 0.71266087, 0.64634228,\n",
       "       0.58592342, 0.53795519, 0.49974753, 0.46873401, 0.44987066,\n",
       "       0.4416288 , 0.45722376, 0.48248203, 0.51712699, 0.53218983,\n",
       "       0.49397569, 0.43772134, 0.3876029 , 0.34802503, 0.31498388,\n",
       "       0.28849682, 0.27080187, 0.26429011, 0.27679934, 0.2985215 ,\n",
       "       0.32558712, 0.3370236 , 0.30333486, 0.25397708, 0.21065534,\n",
       "       0.17217092])"
      ]
     },
     "execution_count": 19,
     "metadata": {},
     "output_type": "execute_result"
    }
   ],
   "source": [
    "acf(df1['Thousands of Passengers'])"
   ]
  },
  {
   "cell_type": "code",
   "execution_count": 20,
   "metadata": {
    "ExecuteTime": {
     "end_time": "2020-03-09T04:01:51.120789Z",
     "start_time": "2020-03-09T04:01:47.383293Z"
    }
   },
   "outputs": [
    {
     "data": {
      "image/png": "[encoded data removed]",
      "text/plain": [
       "<Figure size 432x288 with 1 Axes>"
      ]
     },
     "metadata": {
      "needs_background": "light"
     },
     "output_type": "display_data"
    }
   ],
   "source": [
    "title = 'Autocorrelation: Airline Passengers'\n",
    "lags = 40\n",
    "plot_acf(df1,title=title,lags=lags);"
   ]
  },
  {
   "cell_type": "markdown",
   "metadata": {},
   "source": [
    "This plot indicates non-stationary data, as there are a large number of lags before ACF values drop off.\n",
    "\n",
    "The shaded region by default represents a 95% confidence interval and basically all that it means is it's suggesting that correlation values outside of this confidence interval are very highly likely to be a correlation.\n",
    "\n",
    "And notice you're shaded region gets larger and larger as your lags gets larger and larger as well."
   ]
  },
  {
   "cell_type": "markdown",
   "metadata": {},
   "source": [
    "## PACF Plots\n",
    "Partial autocorrelations work best with stationary data. Let's look first at <strong>Daily Total Female Births</strong>:"
   ]
  },
  {
   "cell_type": "code",
   "execution_count": 21,
   "metadata": {
    "ExecuteTime": {
     "end_time": "2020-03-09T04:09:00.566377Z",
     "start_time": "2020-03-09T04:08:59.406389Z"
    }
   },
   "outputs": [
    {
     "data": {
      "image/png": "[encoded data removed]",
      "text/plain": [
       "<Figure size 432x288 with 1 Axes>"
      ]
     },
     "metadata": {
      "needs_background": "light"
     },
     "output_type": "display_data"
    }
   ],
   "source": [
    "title='Partial Autocorrelation: Daily Female Births'\n",
    "lags=40\n",
    "plot_pacf(df2,title=title,lags=lags);"
   ]
  },
  {
   "cell_type": "markdown",
   "metadata": {},
   "source": [
    "To make the <strong>Airline Passengers</strong> data stationary, we'll first apply <em>differencing</em>:"
   ]
  },
  {
   "cell_type": "code",
   "execution_count": 18,
   "metadata": {},
   "outputs": [
    {
     "data": {
      "image/png": "[encoded data removed]",
      "text/plain": [
       "<Figure size 864x360 with 1 Axes>"
      ]
     },
     "metadata": {
      "needs_background": "light"
     },
     "output_type": "display_data"
    }
   ],
   "source": [
    "from statsmodels.tsa.statespace.tools import diff\n",
    "\n",
    "df1['d1'] = diff(df1['Thousands of Passengers'],k_diff=1)\n",
    "df1['d1'].plot(figsize=(12,5));"
   ]
  },
  {
   "cell_type": "code",
   "execution_count": 19,
   "metadata": {},
   "outputs": [
    {
     "data": {
      "image/png": "[encoded data removed]",
      "text/plain": [
       "<Figure size 432x288 with 1 Axes>"
      ]
     },
     "metadata": {
      "needs_background": "light"
     },
     "output_type": "display_data"
    }
   ],
   "source": [
    "title='PACF: Airline Passengers First Difference'\n",
    "lags=40\n",
    "plot_pacf(df1['d1'].dropna(),title=title,lags=np.arange(lags));  # be sure to add .dropna() here!"
   ]
  },
  {
   "cell_type": "markdown",
   "metadata": {},
   "source": [
    "### Plot Resizing\n",
    "In case you want to display the full autocorrelation plot, it helps to increase the figure size using matplotlib:"
   ]
  },
  {
   "cell_type": "code",
   "execution_count": 21,
   "metadata": {},
   "outputs": [
    {
     "data": {
      "image/png": "[encoded data removed]",
      "text/plain": [
       "<Figure size 864x360 with 1 Axes>"
      ]
     },
     "metadata": {
      "needs_background": "light"
     },
     "output_type": "display_data"
    }
   ],
   "source": [
    "import matplotlib.pyplot as plt\n",
    "fig, ax = plt.subplots(figsize=(12,5))\n",
    "\n",
    "plot_acf(df1['Thousands of Passengers'],ax=ax);"
   ]
  },
  {
   "cell_type": "markdown",
   "metadata": {},
   "source": [
    "<div class=\"alert alert-success\"><strong>A NOTE ABOUT AUTOCORRELATION:</strong> Some texts compute lagged correlations using the Pearson Correlation Coefficient given by:<br><br>\n",
    "${\\displaystyle r_{xy}={\\frac {\\sum _{i=1}^{n}(x_{i}-{\\bar {x}})(y_{i}-{\\bar {y}})}{{\\sqrt {\\sum _{i=1}^{n}(x_{i}-{\\bar {x}})^{2}}}{\\sqrt {\\sum _{i=1}^{n}(y_{i}-{\\bar {y}})^{2}}}}}}$\n",
    "\n",
    "These are easily calculated in numpy with <tt>numpy.corrcoef(x,y)</tt> and in Excel with <tt>=CORREL(x,y)</tt>.<br><br>\n",
    "Using our example, $r_0$ is still $1$, but to solve for $r_1$:\n",
    "\n",
    "${\\displaystyle x_1 = [13, 5, 11, 12], \\bar{x_1} = 10.25}$<br><br>\n",
    "$y_1 = [5, 11, 12, 9],\\  \\bar{y_1} = 9.25$<br><br>\n",
    "$r_{{x_1}{y_1}}=\\frac {(13-10.25)(5-9.25)+(5-10.25)(11-9.25)+(11-10.25)(12-9.25)+(12-10.25)(9-9.25)}\n",
    "{\\sqrt{((13-10.25)^2+(5-10.25)^2+(11-10.25)^2+(12-10.25)^2)}\\sqrt{((5-9.25)^2+(11-9.25)^2+(12-9.25)^2+(9-9.25)^2)}} = \\frac {-19.25} {33.38} = -0.577$\n",
    "<br><br>\n",
    "However, there are some shortcomings. Using the Pearson method, the second-to-last term $r_{k-1}$ will always be $1$ and the last term $r_k$ will always be undefined.\n",
    "</div>"
   ]
  }
 ],
 "metadata": {
  "kernelspec": {
   "display_name": "Python 3",
   "language": "python",
   "name": "python3"
  },
  "language_info": {
   "codemirror_mode": {
    "name": "ipython",
    "version": 3
   },
   "file_extension": ".py",
   "mimetype": "text/x-python",
   "name": "python",
   "nbconvert_exporter": "python",
   "pygments_lexer": "ipython3",
   "version": "3.7.6"
  }
 },
 "nbformat": 4,
 "nbformat_minor": 2
}
