{
 "cells": [
  {
   "cell_type": "markdown",
   "metadata": {},
   "source": [
    "## [How to Grid Search ARIMA Model Hyperparameters with Python](https://machinelearningmastery.com/grid-search-arima-hyperparameters-with-python/)\n",
    "\n",
    "After completing this tutorial, you will know:\n",
    "\n",
    "- A general procedure that you can use to tune the ARIMA hyperparameters for a rolling one-step forecast.\n",
    "- How to apply ARIMA hyperparameter optimization on a standard univariate time series dataset.\n",
    "- Ideas for extending the procedure for more elaborate and robust models.\n",
    "\n",
    "#### Grid Searching Method\n",
    "\n",
    "We can automate the process of training and evaluating ARIMA models on different combinations of model hyperparameters. In machine learning this is called a grid search or model tuning.\n",
    "\n",
    "In this tutorial, we will develop a method to grid search ARIMA hyperparameters for a one-step rolling forecast.\n",
    "\n",
    "The approach is broken down into two parts:\n",
    "\n",
    "1. Evaluate an ARIMA model.\n",
    "2. Evaluate sets of ARIMA parameters."
   ]
  },
  {
   "cell_type": "markdown",
   "metadata": {},
   "source": [
    "### 1. Evaluate an ARIMA model\n",
    "\n",
    "We can evaluate an ARIMA model by preparing it on a training dataset and evaluating predictions on a test dataset.\n",
    "\n",
    "This approach involves the following steps:\n",
    "\n",
    "1. Split the dataset into training and test sets.\n",
    "2. Walk the time steps in the test dataset.\n",
    "        a. Train an ARIMA model.\n",
    "        b. Make a one-step prediction.\n",
    "        c. Store prediction; get and store actual observation.\n",
    "3. Calculate error score for predictions compared to expected values.\n",
    "\n",
    "We can implement this in Python as a new standalone function called `evaluate_arima_model()` that takes a time series dataset as input as well as a tuple with the p, d, and q parameters for the model to be evaluated.\n",
    "\n",
    "The dataset is split in two: 66% for the initial training dataset and the remaining 34% for the test dataset.\n",
    "\n",
    "Each time step of the test set is iterated. Just one iteration provides a model that you could use to make predictions on new data. The iterative approach allows a new ARIMA model to be trained each time step.\n",
    "\n",
    "A prediction is made each iteration and stored in a list. This is so that at the end of the test set, all predictions can be compared to the list of expected values and an error score calculated. In this case, a mean squared error score is calculated and returned."
   ]
  },
  {
   "cell_type": "code",
   "execution_count": 1,
   "metadata": {},
   "outputs": [],
   "source": [
    "# evaluate an ARIMA model for a given order (p,d,q)\n",
    "# Load specific forecasting tools\n",
    "from statsmodels.tsa.arima.model import ARIMA\n",
    "from statsmodels.tools.eval_measures import rmse\n",
    "\n",
    "def evaluate_arima_models(X, arima_order):\n",
    "    # prepare training datasets\n",
    "    train_size = int(len(X)*0.66)\n",
    "    train, test = X[0:train_size], X[train_size:]\n",
    "    history = [x for x in train]\n",
    "    # make predictions\n",
    "    predictions =  list()\n",
    "    model = ARIMA(history, arima_order)\n",
    "    model_fit = model.fit()\n",
    "    yhat = model_fit.forecast()[0]\n",
    "    predictions.append(yhat)\n",
    "    history.append(test[t])\n",
    "    # calculate rmse\n",
    "    error = rmse(test, predictions)\n",
    "    return(error)\n",
    "    "
   ]
  },
  {
   "cell_type": "markdown",
   "metadata": {},
   "source": [
    "### 2. Iterate ARIMA parameters\n",
    "\n",
    "The user must specify a grid of p, d, and q ARIMA parameters to iterate. A model is created for each parameter and its performance evaluated by calling the `evaluate_arima_model()` function described in the previous section.\n",
    "\n",
    "The function must keep track of the lowest error score observed and the configuration that caused it. This can be summarized at the end of the function with a print to standard out.\n",
    "\n",
    "We can implement this function called `evaluate_models()` as a series of four loops.\n",
    "\n",
    "There are two additional considerations. The first is to ensure the input data are floating point values (as opposed to integers or strings), as this can cause the ARIMA procedure to fail.\n",
    "\n",
    "Second, the statsmodels ARIMA procedure internally uses numerical optimization procedures to find a set of coefficients for the model. These procedures can fail, which in turn can throw an exception. We must catch these exceptions and skip those configurations that cause a problem. This happens more often then you would think.\n",
    "\n",
    "Additionally, it is recommended that warnings be ignored for this code to avoid a lot of noise from running the procedure. This can be done as follows:"
   ]
  },
  {
   "cell_type": "code",
   "execution_count": 2,
   "metadata": {},
   "outputs": [],
   "source": [
    "import warnings\n",
    "warnings.filterwarnings(\"ignore\")"
   ]
  },
  {
   "cell_type": "markdown",
   "metadata": {},
   "source": [
    "The complete procedure for evaluating a grid of ARIMA hyperparameters is listed below."
   ]
  },
  {
   "cell_type": "code",
   "execution_count": 9,
   "metadata": {},
   "outputs": [],
   "source": [
    "# evaluate combinations of p,d,q values for an ARIMA model\n",
    "\n",
    "def evaluate_models(dataset, p_values, d_values, q_values):\n",
    "    dataset = dataset.astype('float32')\n",
    "    best_score, best_cfg = float('inf'), None\n",
    "    for p in p_values:\n",
    "        for d in d_values:\n",
    "            for q in q_values:\n",
    "                order = (p,d,q)\n",
    "                try:\n",
    "                    rmse = evaluate_arima_models(dataset, order)\n",
    "                    if rmse < best_score:\n",
    "                        best_score, best_cfg = rmse, order\n",
    "                        print(\"ARIMA orders%s and RMSE = %.3f\"%(order,rmse))\n",
    "                except:\n",
    "                    continue\n",
    "                    \n",
    "    print(\"Best ARIMA orders%s and RMSE = %.3f\"%(order,rmse))"
   ]
  },
  {
   "cell_type": "markdown",
   "metadata": {},
   "source": [
    "Now that we have a procedure to grid search ARIMA hyperparameters, let’s test the procedure on two univariate time series problems."
   ]
  },
  {
   "cell_type": "code",
   "execution_count": null,
   "metadata": {},
   "outputs": [],
   "source": []
  },
  {
   "cell_type": "code",
   "execution_count": null,
   "metadata": {},
   "outputs": [],
   "source": []
  }
 ],
 "metadata": {
  "kernelspec": {
   "display_name": "Python 3",
   "language": "python",
   "name": "python3"
  },
  "language_info": {
   "codemirror_mode": {
    "name": "ipython",
    "version": 3
   },
   "file_extension": ".py",
   "mimetype": "text/x-python",
   "name": "python",
   "nbconvert_exporter": "python",
   "pygments_lexer": "ipython3",
   "version": "3.7.6"
  }
 },
 "nbformat": 4,
 "nbformat_minor": 4
}
